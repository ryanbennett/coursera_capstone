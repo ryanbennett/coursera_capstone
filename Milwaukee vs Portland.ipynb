{
 "cells": [
  {
   "cell_type": "markdown",
   "metadata": {
    "collapsed": true
   },
   "source": [
    "# Milwaukee vs Portland"
   ]
  },
  {
   "cell_type": "markdown",
   "metadata": {},
   "source": [
    "## Introduction"
   ]
  },
  {
   "cell_type": "markdown",
   "metadata": {},
   "source": [
    "I live in Milwaukee and for business I have traveled to the west coast quite a bit, specifically to Portland. I remember running across this article: https://www.salon.com/2014/08/20/milwaukee_is_the_new_portland_partner and wondering - is this really true? They do feel similar, but what does the data say? Do they have similarities in the make-up of their neighborhoods? This project will explore similarities and differences of the distinct make-up of both cities at the neighborhood level."
   ]
  },
  {
   "cell_type": "markdown",
   "metadata": {},
   "source": [
    "We will be exploring the neighborhoods using a combination of FourSquare's APIs for venues and locations with a combination of open source datasets to define our neighborhoods."
   ]
  },
  {
   "cell_type": "markdown",
   "metadata": {},
   "source": [
    "- https://en.wikipedia.org/wiki/List_of_neighborhoods_of_Milwaukee\n",
    "- https://en.wikipedia.org/wiki/Neighborhoods_of_Portland,_Oregon\n",
    "- https://portlandneighborhood.com/portlandzipcodes\n",
    "- https://city.milwaukee.gov/Neighborhoods#.XbNRzehKiUk - KML data"
   ]
  },
  {
   "cell_type": "code",
   "execution_count": null,
   "metadata": {},
   "outputs": [],
   "source": []
  }
 ],
 "metadata": {
  "kernelspec": {
   "display_name": "Python 3.6",
   "language": "python",
   "name": "python3"
  },
  "language_info": {
   "codemirror_mode": {
    "name": "ipython",
    "version": 3
   },
   "file_extension": ".py",
   "mimetype": "text/x-python",
   "name": "python",
   "nbconvert_exporter": "python",
   "pygments_lexer": "ipython3",
   "version": "3.6.8"
  }
 },
 "nbformat": 4,
 "nbformat_minor": 1
}
